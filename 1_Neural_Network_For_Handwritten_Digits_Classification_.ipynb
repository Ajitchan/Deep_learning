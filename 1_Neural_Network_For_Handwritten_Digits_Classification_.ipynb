{
  "nbformat": 4,
  "nbformat_minor": 0,
  "metadata": {
    "colab": {
      "name": "1 - Neural Network For Handwritten Digits Classification .ipynb",
      "provenance": [],
      "collapsed_sections": [
        "gD38JO9VEuF3",
        "eVoX_Wz1Z99J",
        "TNBct5LqdcC9",
        "5AzLNDu-hbzd",
        "8UN4EvWS-emL",
        "1NOO9RMmGnYj",
        "RyQumZsgQNML"
      ],
      "authorship_tag": "ABX9TyN2PblqpHx2hQHKKueTL+js",
      "include_colab_link": true
    },
    "kernelspec": {
      "name": "python3",
      "display_name": "Python 3"
    }
  },
  "cells": [
    {
      "cell_type": "markdown",
      "metadata": {
        "id": "view-in-github",
        "colab_type": "text"
      },
      "source": [
        "<a href=\"https://colab.research.google.com/github/Ajitchan/Deep_learning/blob/main/1_Neural_Network_For_Handwritten_Digits_Classification_.ipynb\" target=\"_parent\"><img src=\"https://colab.research.google.com/assets/colab-badge.svg\" alt=\"Open In Colab\"/></a>"
      ]
    },
    {
      "cell_type": "markdown",
      "metadata": {
        "id": "gD38JO9VEuF3"
      },
      "source": [
        "# Part 1"
      ]
    },
    {
      "cell_type": "code",
      "metadata": {
        "colab": {
          "base_uri": "https://localhost:8080/"
        },
        "id": "TgxQyDdQEQ4t",
        "outputId": "fd9d05fe-4ca5-4e6d-bdf7-0bbf65166da4"
      },
      "source": [
        "# Load the Drive helper and mount your Google Drive as a drive in the virtual machine\n",
        "from google.colab import drive\n",
        "drive.mount('/content/drive')"
      ],
      "execution_count": null,
      "outputs": [
        {
          "output_type": "stream",
          "text": [
            "Mounted at /content/drive\n"
          ],
          "name": "stdout"
        }
      ]
    },
    {
      "cell_type": "code",
      "metadata": {
        "id": "Wd-JaiLxE1Qz"
      },
      "source": [
        "import os\n",
        "os.chdir('/content/drive/MyDrive/Colab Notebooks/Deep_learning')"
      ],
      "execution_count": null,
      "outputs": []
    },
    {
      "cell_type": "code",
      "metadata": {
        "colab": {
          "base_uri": "https://localhost:8080/"
        },
        "id": "3ejzOXfDE60B",
        "outputId": "70c66671-1ed3-44e7-e425-293339879bf1"
      },
      "source": [
        "os.getcwd()\n",
        "os.listdir()"
      ],
      "execution_count": null,
      "outputs": [
        {
          "output_type": "execute_result",
          "data": {
            "text/plain": [
              "['1 - Neural Network For Handwritten Digits Classification .ipynb']"
            ]
          },
          "metadata": {
            "tags": []
          },
          "execution_count": 5
        }
      ]
    },
    {
      "cell_type": "code",
      "metadata": {
        "id": "gAUf8pYhFI6o"
      },
      "source": [
        "import tensorflow as tf \n",
        "from tensorflow import  keras\n",
        "import matplotlib.pyplot as plt\n",
        "%matplotlib inline\n",
        "import numpy as np"
      ],
      "execution_count": null,
      "outputs": []
    },
    {
      "cell_type": "code",
      "metadata": {
        "colab": {
          "base_uri": "https://localhost:8080/"
        },
        "id": "aVXHr7YvM6dA",
        "outputId": "8f54b26b-bb84-4e32-a67d-5f5a48bc62d8"
      },
      "source": [
        "(X_train, y_train) , (X_test, y_test) = keras.datasets.mnist.load_data() # 'X' is image data and 'y' is truth data which indicate the true value the handwritten image"
      ],
      "execution_count": null,
      "outputs": [
        {
          "output_type": "stream",
          "text": [
            "Downloading data from https://storage.googleapis.com/tensorflow/tf-keras-datasets/mnist.npz\n",
            "11493376/11490434 [==============================] - 0s 0us/step\n"
          ],
          "name": "stdout"
        }
      ]
    },
    {
      "cell_type": "code",
      "metadata": {
        "colab": {
          "base_uri": "https://localhost:8080/"
        },
        "id": "ixytdU8QNY7d",
        "outputId": "ccddc3c4-07d0-49bb-f95b-3e182b646dae"
      },
      "source": [
        "len(X_train)"
      ],
      "execution_count": null,
      "outputs": [
        {
          "output_type": "execute_result",
          "data": {
            "text/plain": [
              "60000"
            ]
          },
          "metadata": {
            "tags": []
          },
          "execution_count": 11
        }
      ]
    },
    {
      "cell_type": "code",
      "metadata": {
        "colab": {
          "base_uri": "https://localhost:8080/"
        },
        "id": "o50WkCvGNlRZ",
        "outputId": "b87e95cc-a1bc-4553-fc2a-cdd4f1be606a"
      },
      "source": [
        "X_train.shape"
      ],
      "execution_count": null,
      "outputs": [
        {
          "output_type": "execute_result",
          "data": {
            "text/plain": [
              "(60000, 28, 28)"
            ]
          },
          "metadata": {
            "tags": []
          },
          "execution_count": 14
        }
      ]
    },
    {
      "cell_type": "code",
      "metadata": {
        "colab": {
          "base_uri": "https://localhost:8080/"
        },
        "id": "eruI61keNuAZ",
        "outputId": "fe8be295-ceb2-49c7-c599-59a7853276c1"
      },
      "source": [
        "X_train[1].ndim"
      ],
      "execution_count": null,
      "outputs": [
        {
          "output_type": "execute_result",
          "data": {
            "text/plain": [
              "2"
            ]
          },
          "metadata": {
            "tags": []
          },
          "execution_count": 25
        }
      ]
    },
    {
      "cell_type": "code",
      "metadata": {
        "id": "Nm3VUxS5V2bR"
      },
      "source": [
        "X_train[1]"
      ],
      "execution_count": null,
      "outputs": []
    },
    {
      "cell_type": "code",
      "metadata": {
        "colab": {
          "base_uri": "https://localhost:8080/",
          "height": 292
        },
        "id": "AXRJgwlNOGgi",
        "outputId": "cc3f7726-e837-4292-8835-f06c974bb2e9"
      },
      "source": [
        "plt.matshow(X_train[2222])"
      ],
      "execution_count": null,
      "outputs": [
        {
          "output_type": "execute_result",
          "data": {
            "text/plain": [
              "<matplotlib.image.AxesImage at 0x7f59b8231210>"
            ]
          },
          "metadata": {
            "tags": []
          },
          "execution_count": 21
        },
        {
          "output_type": "display_data",
          "data": {
            "image/png": "[encoded data removed]",
            "text/plain": [
              "<Figure size 288x288 with 1 Axes>"
            ]
          },
          "metadata": {
            "tags": [],
            "needs_background": "light"
          }
        }
      ]
    },
    {
      "cell_type": "code",
      "metadata": {
        "colab": {
          "base_uri": "https://localhost:8080/"
        },
        "id": "UJfXLnJ7Og70",
        "outputId": "0f4aeabe-736f-497b-e26a-4db538f5ad61"
      },
      "source": [
        "y_train[2222]"
      ],
      "execution_count": null,
      "outputs": [
        {
          "output_type": "execute_result",
          "data": {
            "text/plain": [
              "4"
            ]
          },
          "metadata": {
            "tags": []
          },
          "execution_count": 22
        }
      ]
    },
    {
      "cell_type": "code",
      "metadata": {
        "colab": {
          "base_uri": "https://localhost:8080/"
        },
        "id": "Kn5EDfDzOoMA",
        "outputId": "f3fd092f-b478-4ca7-e865-45649825f023"
      },
      "source": [
        "y_train[:20]"
      ],
      "execution_count": null,
      "outputs": [
        {
          "output_type": "execute_result",
          "data": {
            "text/plain": [
              "array([5, 0, 4, 1, 9, 2, 1, 3, 1, 4, 3, 5, 3, 6, 1, 7, 2, 8, 6, 9],\n",
              "      dtype=uint8)"
            ]
          },
          "metadata": {
            "tags": []
          },
          "execution_count": 24
        }
      ]
    },
    {
      "cell_type": "code",
      "metadata": {
        "id": "mbuxfkPdO19A"
      },
      "source": [
        "# Scalling the input features for improving the accuracy\n",
        "X_train = X_train / 255\n",
        "X_test = X_test / 255\n",
        "\n",
        "# Converting 28 * 28 image to single dimension array (reshaping)\n",
        "X_train_flattened = X_train.reshape(len(X_train), 28 * 28)\n",
        "X_test_flattened = X_test.reshape(len(X_test), 28 * 28)"
      ],
      "execution_count": null,
      "outputs": []
    },
    {
      "cell_type": "code",
      "metadata": {
        "colab": {
          "base_uri": "https://localhost:8080/"
        },
        "id": "AzPh860cP_4m",
        "outputId": "90664a9f-d31c-44ef-fd8b-d51200674e56"
      },
      "source": [
        "X_train_flattened.shape\n",
        "X_test_flattened.shape"
      ],
      "execution_count": null,
      "outputs": [
        {
          "output_type": "execute_result",
          "data": {
            "text/plain": [
              "(10000, 784)"
            ]
          },
          "metadata": {
            "tags": []
          },
          "execution_count": 41
        }
      ]
    },
    {
      "cell_type": "code",
      "metadata": {
        "colab": {
          "base_uri": "https://localhost:8080/"
        },
        "id": "OPjydjHWQFKJ",
        "outputId": "cbd5b034-0d08-423a-da83-f8ffca0e922d"
      },
      "source": [
        "X_test_flattened.ndim"
      ],
      "execution_count": null,
      "outputs": [
        {
          "output_type": "execute_result",
          "data": {
            "text/plain": [
              "2"
            ]
          },
          "metadata": {
            "tags": []
          },
          "execution_count": 42
        }
      ]
    },
    {
      "cell_type": "code",
      "metadata": {
        "id": "gWVmJGNzQa0S"
      },
      "source": [
        "X_train_flattened[2]"
      ],
      "execution_count": null,
      "outputs": []
    },
    {
      "cell_type": "code",
      "metadata": {
        "colab": {
          "base_uri": "https://localhost:8080/"
        },
        "id": "dfIJcEOJQh9Q",
        "outputId": "1714fa46-4fca-4303-978c-8fb331affa80"
      },
      "source": [
        "model = keras.Sequential([\n",
        "       keras.layers.Dense(10, input_shape = (784,), activation='sigmoid')           \n",
        "]) \n",
        "\n",
        "model.compile(\n",
        "    optimizer = 'adam',\n",
        "    loss = 'sparse_categorical_crossentropy',\n",
        "    metrics = ['accuracy']\n",
        ")\n",
        "\n",
        "model.fit(X_train_flattened, y_train, epochs = 5)"
      ],
      "execution_count": null,
      "outputs": [
        {
          "output_type": "stream",
          "text": [
            "Epoch 1/5\n",
            "1875/1875 [==============================] - 2s 1ms/step - loss: 0.7307 - accuracy: 0.8088\n",
            "Epoch 2/5\n",
            "1875/1875 [==============================] - 2s 1ms/step - loss: 0.3127 - accuracy: 0.9128\n",
            "Epoch 3/5\n",
            "1875/1875 [==============================] - 2s 1ms/step - loss: 0.2845 - accuracy: 0.9211\n",
            "Epoch 4/5\n",
            "1875/1875 [==============================] - 2s 1ms/step - loss: 0.2737 - accuracy: 0.9238\n",
            "Epoch 5/5\n",
            "1875/1875 [==============================] - 2s 1ms/step - loss: 0.2662 - accuracy: 0.9251\n"
          ],
          "name": "stdout"
        },
        {
          "output_type": "execute_result",
          "data": {
            "text/plain": [
              "<tensorflow.python.keras.callbacks.History at 0x7f59b90f9150>"
            ]
          },
          "metadata": {
            "tags": []
          },
          "execution_count": 44
        }
      ]
    },
    {
      "cell_type": "markdown",
      "metadata": {
        "id": "eVoX_Wz1Z99J"
      },
      "source": [
        "# Part 2"
      ]
    },
    {
      "cell_type": "code",
      "metadata": {
        "colab": {
          "base_uri": "https://localhost:8080/"
        },
        "id": "3bJfQQ71SFWy",
        "outputId": "2ab465db-d881-4345-a1b4-e1251b508907"
      },
      "source": [
        "model.evaluate(X_test_flattened, y_test)"
      ],
      "execution_count": null,
      "outputs": [
        {
          "output_type": "stream",
          "text": [
            "313/313 [==============================] - 0s 956us/step - loss: 0.2723 - accuracy: 0.9248\n"
          ],
          "name": "stdout"
        },
        {
          "output_type": "execute_result",
          "data": {
            "text/plain": [
              "[0.27232012152671814, 0.9247999787330627]"
            ]
          },
          "metadata": {
            "tags": []
          },
          "execution_count": 45
        }
      ]
    },
    {
      "cell_type": "code",
      "metadata": {
        "colab": {
          "base_uri": "https://localhost:8080/",
          "height": 292
        },
        "id": "FqnASx1GXqNO",
        "outputId": "273820e6-863c-4227-87e0-0644f1f354a5"
      },
      "source": [
        "plt.matshow(X_test[9000])"
      ],
      "execution_count": null,
      "outputs": [
        {
          "output_type": "execute_result",
          "data": {
            "text/plain": [
              "<matplotlib.image.AxesImage at 0x7f59afb666d0>"
            ]
          },
          "metadata": {
            "tags": []
          },
          "execution_count": 62
        },
        {
          "output_type": "display_data",
          "data": {
            "image/png": "[encoded data removed]",
            "text/plain": [
              "<Figure size 288x288 with 1 Axes>"
            ]
          },
          "metadata": {
            "tags": [],
            "needs_background": "light"
          }
        }
      ]
    },
    {
      "cell_type": "code",
      "metadata": {
        "colab": {
          "base_uri": "https://localhost:8080/"
        },
        "id": "Yhg3BcQiYLlT",
        "outputId": "117ec996-d6d7-475d-bf32-8979678e0bb9"
      },
      "source": [
        "y_test[9000]"
      ],
      "execution_count": null,
      "outputs": [
        {
          "output_type": "execute_result",
          "data": {
            "text/plain": [
              "7"
            ]
          },
          "metadata": {
            "tags": []
          },
          "execution_count": 63
        }
      ]
    },
    {
      "cell_type": "code",
      "metadata": {
        "colab": {
          "base_uri": "https://localhost:8080/"
        },
        "id": "huOgYm5sX197",
        "outputId": "330184c2-10fb-48ac-d9e6-a29276acd494"
      },
      "source": [
        "predict = model.predict(X_test_flattened)\n",
        "predict[9000]"
      ],
      "execution_count": null,
      "outputs": [
        {
          "output_type": "execute_result",
          "data": {
            "text/plain": [
              "array([6.6517591e-03, 1.1307620e-07, 1.9535422e-04, 2.5812805e-02,\n",
              "       1.7908216e-03, 1.8203020e-02, 1.6609764e-07, 9.9995518e-01,\n",
              "       1.1454818e-01, 9.2406201e-01], dtype=float32)"
            ]
          },
          "metadata": {
            "tags": []
          },
          "execution_count": 64
        }
      ]
    },
    {
      "cell_type": "code",
      "metadata": {
        "colab": {
          "base_uri": "https://localhost:8080/"
        },
        "id": "T-0IgHVoY3Rz",
        "outputId": "a7033bfd-1e37-4efe-a297-6998efe35fe8"
      },
      "source": [
        "np.argmax(predict[9000]) # it will the max value of an array and return its index"
      ],
      "execution_count": null,
      "outputs": [
        {
          "output_type": "execute_result",
          "data": {
            "text/plain": [
              "7"
            ]
          },
          "metadata": {
            "tags": []
          },
          "execution_count": 65
        }
      ]
    },
    {
      "cell_type": "code",
      "metadata": {
        "colab": {
          "base_uri": "https://localhost:8080/"
        },
        "id": "dw2214F1ZYek",
        "outputId": "a0dcc358-3777-48ae-afd6-525641b0cf85"
      },
      "source": [
        "y_pred_labels = [np.argmax(i) for i in predict]\n",
        "y_pred_labels[:20]"
      ],
      "execution_count": null,
      "outputs": [
        {
          "output_type": "execute_result",
          "data": {
            "text/plain": [
              "[7, 2, 1, 0, 4, 1, 4, 9, 6, 9, 0, 6, 9, 0, 1, 5, 9, 7, 3, 4]"
            ]
          },
          "metadata": {
            "tags": []
          },
          "execution_count": 67
        }
      ]
    },
    {
      "cell_type": "code",
      "metadata": {
        "colab": {
          "base_uri": "https://localhost:8080/"
        },
        "id": "asxSgEoNbRp0",
        "outputId": "9c66befc-4feb-4b55-cb25-317a5610cc2c"
      },
      "source": [
        "y_test[:20]"
      ],
      "execution_count": null,
      "outputs": [
        {
          "output_type": "execute_result",
          "data": {
            "text/plain": [
              "array([7, 2, 1, 0, 4, 1, 4, 9, 5, 9, 0, 6, 9, 0, 1, 5, 9, 7, 3, 4],\n",
              "      dtype=uint8)"
            ]
          },
          "metadata": {
            "tags": []
          },
          "execution_count": 68
        }
      ]
    },
    {
      "cell_type": "code",
      "metadata": {
        "colab": {
          "base_uri": "https://localhost:8080/"
        },
        "id": "aQXp5EWobfAa",
        "outputId": "6bc42ab7-0bed-4bc9-a61d-c08e817d3d91"
      },
      "source": [
        "confu_mat = tf.math.confusion_matrix(labels= y_test , predictions= y_pred_labels)\n",
        "confu_mat"
      ],
      "execution_count": null,
      "outputs": [
        {
          "output_type": "execute_result",
          "data": {
            "text/plain": [
              "<tf.Tensor: shape=(10, 10), dtype=int32, numpy=\n",
              "array([[ 967,    0,    1,    2,    0,    5,    2,    2,    1,    0],\n",
              "       [   0, 1108,    3,    2,    0,    2,    4,    2,   14,    0],\n",
              "       [   6,    8,  918,   17,    6,    7,   11,   11,   45,    3],\n",
              "       [   4,    0,   15,  897,    0,   47,    2,   14,   25,    6],\n",
              "       [   1,    1,    5,    1,  909,    0,   11,    6,   10,   38],\n",
              "       [   8,    2,    3,   17,    5,  808,   10,    6,   27,    6],\n",
              "       [  12,    3,    8,    1,    7,   24,  899,    2,    2,    0],\n",
              "       [   1,    5,   21,    6,    4,    0,    0,  964,    5,   22],\n",
              "       [   7,    6,    5,   17,    8,   43,    8,   12,  863,    5],\n",
              "       [  11,    6,    1,    8,   18,   11,    0,   30,    9,  915]],\n",
              "      dtype=int32)>"
            ]
          },
          "metadata": {
            "tags": []
          },
          "execution_count": 71
        }
      ]
    },
    {
      "cell_type": "code",
      "metadata": {
        "colab": {
          "base_uri": "https://localhost:8080/",
          "height": 459
        },
        "id": "9VEtCprLcSJZ",
        "outputId": "97c5bcf9-df0d-4b02-9e49-3aa38a8c237f"
      },
      "source": [
        "import seaborn as sn\n",
        "plt.figure(figsize = (10,7))\n",
        "sn.heatmap(confu_mat, annot=True, fmt='d')\n",
        "plt.xlabel('Predicted')\n",
        "plt.ylabel('Truth')"
      ],
      "execution_count": null,
      "outputs": [
        {
          "output_type": "execute_result",
          "data": {
            "text/plain": [
              "Text(69.0, 0.5, 'Truth')"
            ]
          },
          "metadata": {
            "tags": []
          },
          "execution_count": 73
        },
        {
          "output_type": "display_data",
          "data": {
            "image/png": "[encoded data removed]",
            "text/plain": [
              "<Figure size 720x504 with 2 Axes>"
            ]
          },
          "metadata": {
            "tags": [],
            "needs_background": "light"
          }
        }
      ]
    },
    {
      "cell_type": "markdown",
      "metadata": {
        "id": "TNBct5LqdcC9"
      },
      "source": [
        "# Part 3 - Adding hidden layer"
      ]
    },
    {
      "cell_type": "code",
      "metadata": {
        "colab": {
          "base_uri": "https://localhost:8080/"
        },
        "id": "SqGDZRwodd8_",
        "outputId": "405d6681-addf-4c68-cb63-2c7a9482735e"
      },
      "source": [
        "model = keras.Sequential([\n",
        "       keras.layers.Dense(100, input_shape = (784,), activation='relu'), # 100 neurons in the hidden layer, 'relu' funtion is best for hidden layer\n",
        "       keras.layers.Dense(10, activation='sigmoid')  # output 10         \n",
        "]) \n",
        "\n",
        "model.compile(\n",
        "    optimizer = 'adam',\n",
        "    loss = 'sparse_categorical_crossentropy',\n",
        "    metrics = ['accuracy']\n",
        ")\n",
        "\n",
        "model.fit(X_train_flattened, y_train, epochs = 5)"
      ],
      "execution_count": null,
      "outputs": [
        {
          "output_type": "stream",
          "text": [
            "Epoch 1/5\n",
            "1875/1875 [==============================] - 4s 2ms/step - loss: 0.4472 - accuracy: 0.8725\n",
            "Epoch 2/5\n",
            "1875/1875 [==============================] - 4s 2ms/step - loss: 0.1359 - accuracy: 0.9604\n",
            "Epoch 3/5\n",
            "1875/1875 [==============================] - 4s 2ms/step - loss: 0.0915 - accuracy: 0.9727\n",
            "Epoch 4/5\n",
            "1875/1875 [==============================] - 4s 2ms/step - loss: 0.0636 - accuracy: 0.9807\n",
            "Epoch 5/5\n",
            "1875/1875 [==============================] - 4s 2ms/step - loss: 0.0489 - accuracy: 0.9860\n"
          ],
          "name": "stdout"
        },
        {
          "output_type": "execute_result",
          "data": {
            "text/plain": [
              "<tensorflow.python.keras.callbacks.History at 0x7f59a05e5590>"
            ]
          },
          "metadata": {
            "tags": []
          },
          "execution_count": 74
        }
      ]
    },
    {
      "cell_type": "code",
      "metadata": {
        "colab": {
          "base_uri": "https://localhost:8080/"
        },
        "id": "UZU9PE8PfvDS",
        "outputId": "b9fe5f3e-0467-4192-d5df-9cf73eca8904"
      },
      "source": [
        "model.evaluate(X_test_flattened, y_test)"
      ],
      "execution_count": null,
      "outputs": [
        {
          "output_type": "stream",
          "text": [
            "313/313 [==============================] - 0s 1ms/step - loss: 0.0754 - accuracy: 0.9774\n"
          ],
          "name": "stdout"
        },
        {
          "output_type": "execute_result",
          "data": {
            "text/plain": [
              "[0.07540019601583481, 0.977400004863739]"
            ]
          },
          "metadata": {
            "tags": []
          },
          "execution_count": 75
        }
      ]
    },
    {
      "cell_type": "code",
      "metadata": {
        "colab": {
          "base_uri": "https://localhost:8080/",
          "height": 459
        },
        "id": "u865oYRDgixe",
        "outputId": "44d6a00f-2f8c-49bb-9843-b87e46146732"
      },
      "source": [
        "predict = model.predict(X_test_flattened)\n",
        "y_pred_labels = [np.argmax(i) for i in predict]\n",
        "confu_mat = tf.math.confusion_matrix(labels= y_test , predictions= y_pred_labels)\n",
        "plt.figure(figsize = (10,7))\n",
        "sn.heatmap(confu_mat, annot=True, fmt='d')\n",
        "plt.xlabel('Predicted')\n",
        "plt.ylabel('Truth')"
      ],
      "execution_count": null,
      "outputs": [
        {
          "output_type": "execute_result",
          "data": {
            "text/plain": [
              "Text(69.0, 0.5, 'Truth')"
            ]
          },
          "metadata": {
            "tags": []
          },
          "execution_count": 77
        },
        {
          "output_type": "display_data",
          "data": {
            "image/png": "[encoded data removed]",
            "text/plain": [
              "<Figure size 720x504 with 2 Axes>"
            ]
          },
          "metadata": {
            "tags": [],
            "needs_background": "light"
          }
        }
      ]
    },
    {
      "cell_type": "markdown",
      "metadata": {
        "id": "5AzLNDu-hbzd"
      },
      "source": [
        "# Part 4 "
      ]
    },
    {
      "cell_type": "code",
      "metadata": {
        "colab": {
          "base_uri": "https://localhost:8080/"
        },
        "id": "_7cNfBDRhe9i",
        "outputId": "065ae533-1d04-4a3d-c90e-de32ddb7940e"
      },
      "source": [
        "model = keras.Sequential([\n",
        "    keras.layers.Flatten(input_shape=(28, 28)), #Using Flatten layer so that we don't have to call .reshape on input dataset\n",
        "    keras.layers.Dense(100, activation='relu'),\n",
        "    keras.layers.Dense(10, activation='sigmoid')\n",
        "])\n",
        "\n",
        "model.compile(optimizer='adam',\n",
        "              loss='sparse_categorical_crossentropy',\n",
        "              metrics=['accuracy'])\n",
        "\n",
        "model.fit(X_train, y_train, epochs=10)"
      ],
      "execution_count": null,
      "outputs": [
        {
          "output_type": "stream",
          "text": [
            "Epoch 1/10\n",
            "1875/1875 [==============================] - 4s 2ms/step - loss: 0.4517 - accuracy: 0.8708\n",
            "Epoch 2/10\n",
            "1875/1875 [==============================] - 3s 2ms/step - loss: 0.1303 - accuracy: 0.9624\n",
            "Epoch 3/10\n",
            "1875/1875 [==============================] - 4s 2ms/step - loss: 0.0871 - accuracy: 0.9751\n",
            "Epoch 4/10\n",
            "1875/1875 [==============================] - 4s 2ms/step - loss: 0.0634 - accuracy: 0.9815\n",
            "Epoch 5/10\n",
            "1875/1875 [==============================] - 4s 2ms/step - loss: 0.0536 - accuracy: 0.9838\n",
            "Epoch 6/10\n",
            "1875/1875 [==============================] - 3s 2ms/step - loss: 0.0417 - accuracy: 0.9871\n",
            "Epoch 7/10\n",
            "1875/1875 [==============================] - 3s 2ms/step - loss: 0.0326 - accuracy: 0.9902\n",
            "Epoch 8/10\n",
            "1875/1875 [==============================] - 3s 2ms/step - loss: 0.0272 - accuracy: 0.9911\n",
            "Epoch 9/10\n",
            "1875/1875 [==============================] - 3s 2ms/step - loss: 0.0223 - accuracy: 0.9935\n",
            "Epoch 10/10\n",
            "1875/1875 [==============================] - 3s 2ms/step - loss: 0.0189 - accuracy: 0.9941\n"
          ],
          "name": "stdout"
        },
        {
          "output_type": "execute_result",
          "data": {
            "text/plain": [
              "<tensorflow.python.keras.callbacks.History at 0x7f599e330490>"
            ]
          },
          "metadata": {
            "tags": []
          },
          "execution_count": 78
        }
      ]
    },
    {
      "cell_type": "code",
      "metadata": {
        "colab": {
          "base_uri": "https://localhost:8080/"
        },
        "id": "2KpT8aFjhp3W",
        "outputId": "4a9c0cef-47d2-48b4-e5ca-218115b6bf53"
      },
      "source": [
        "model.evaluate(X_test, y_test)"
      ],
      "execution_count": null,
      "outputs": [
        {
          "output_type": "stream",
          "text": [
            "313/313 [==============================] - 0s 1ms/step - loss: 0.0902 - accuracy: 0.9759\n"
          ],
          "name": "stdout"
        },
        {
          "output_type": "execute_result",
          "data": {
            "text/plain": [
              "[0.0901704728603363, 0.9758999943733215]"
            ]
          },
          "metadata": {
            "tags": []
          },
          "execution_count": 79
        }
      ]
    },
    {
      "cell_type": "markdown",
      "metadata": {
        "id": "8UN4EvWS-emL"
      },
      "source": [
        "# Part 5 - Activation Functions"
      ]
    },
    {
      "cell_type": "code",
      "metadata": {
        "id": "de0-pF7q-kBJ"
      },
      "source": [
        "import math\n",
        "\n",
        "\n",
        "def sig(x):\n",
        "  return 1 / ( 1 + math.exp(-x))"
      ],
      "execution_count": null,
      "outputs": []
    },
    {
      "cell_type": "code",
      "metadata": {
        "colab": {
          "base_uri": "https://localhost:8080/"
        },
        "id": "bz78xRNY-88K",
        "outputId": "53c898be-0424-4777-c80e-72a7e1339653"
      },
      "source": [
        "sig(1)"
      ],
      "execution_count": null,
      "outputs": [
        {
          "output_type": "execute_result",
          "data": {
            "text/plain": [
              "0.7310585786300049"
            ]
          },
          "metadata": {
            "tags": []
          },
          "execution_count": 8
        }
      ]
    },
    {
      "cell_type": "code",
      "metadata": {
        "id": "8Rx-j_oBEVX-"
      },
      "source": [
        "def tanh (x):\n",
        "  return (math.exp(x) - math.exp(-x)) / (math.exp(x) + math.exp(-x))"
      ],
      "execution_count": null,
      "outputs": []
    },
    {
      "cell_type": "code",
      "metadata": {
        "colab": {
          "base_uri": "https://localhost:8080/"
        },
        "id": "zjplJ72aEvcD",
        "outputId": "07789ef9-3ddf-40d5-eb4c-976cb3f0de6e"
      },
      "source": [
        "tanh (1)"
      ],
      "execution_count": null,
      "outputs": [
        {
          "output_type": "execute_result",
          "data": {
            "text/plain": [
              "0.7615941559557649"
            ]
          },
          "metadata": {
            "tags": []
          },
          "execution_count": 14
        }
      ]
    },
    {
      "cell_type": "code",
      "metadata": {
        "colab": {
          "base_uri": "https://localhost:8080/"
        },
        "id": "_u-n3GjwEy7I",
        "outputId": "b0328326-d30b-4efc-e9b5-07ce19e4af37"
      },
      "source": [
        "tanh (-1)"
      ],
      "execution_count": null,
      "outputs": [
        {
          "output_type": "execute_result",
          "data": {
            "text/plain": [
              "-0.7615941559557649"
            ]
          },
          "metadata": {
            "tags": []
          },
          "execution_count": 15
        }
      ]
    },
    {
      "cell_type": "code",
      "metadata": {
        "id": "QIdxVAv6FHgp"
      },
      "source": [
        "def relu(x):\n",
        "  return max(0,x)"
      ],
      "execution_count": null,
      "outputs": []
    },
    {
      "cell_type": "code",
      "metadata": {
        "colab": {
          "base_uri": "https://localhost:8080/"
        },
        "id": "vZY14Jo6FWmI",
        "outputId": "9a114087-d0dd-49a1-a0aa-fb395f0bcc2b"
      },
      "source": [
        "relu(-13.4)"
      ],
      "execution_count": null,
      "outputs": [
        {
          "output_type": "execute_result",
          "data": {
            "text/plain": [
              "0"
            ]
          },
          "metadata": {
            "tags": []
          },
          "execution_count": 17
        }
      ]
    },
    {
      "cell_type": "code",
      "metadata": {
        "colab": {
          "base_uri": "https://localhost:8080/"
        },
        "id": "7r1OMTLAFgcq",
        "outputId": "7515a136-61c8-4138-903d-81cb9ccbc810"
      },
      "source": [
        "relu(13.4)"
      ],
      "execution_count": null,
      "outputs": [
        {
          "output_type": "execute_result",
          "data": {
            "text/plain": [
              "13.4"
            ]
          },
          "metadata": {
            "tags": []
          },
          "execution_count": 18
        }
      ]
    },
    {
      "cell_type": "code",
      "metadata": {
        "id": "DCKWWGtmFiXE"
      },
      "source": [
        "def leaky_relu(x):\n",
        "  return max(0.1*x,x)"
      ],
      "execution_count": null,
      "outputs": []
    },
    {
      "cell_type": "code",
      "metadata": {
        "colab": {
          "base_uri": "https://localhost:8080/"
        },
        "id": "ngy-vBJMFwj_",
        "outputId": "50bfa562-764f-470a-92ad-01a14cb54af6"
      },
      "source": [
        "leaky_relu(13.4)"
      ],
      "execution_count": null,
      "outputs": [
        {
          "output_type": "execute_result",
          "data": {
            "text/plain": [
              "13.4"
            ]
          },
          "metadata": {
            "tags": []
          },
          "execution_count": 20
        }
      ]
    },
    {
      "cell_type": "code",
      "metadata": {
        "colab": {
          "base_uri": "https://localhost:8080/"
        },
        "id": "AydoxwNYF0Ka",
        "outputId": "4764ac93-1b61-4164-dabf-46e4d3b71f25"
      },
      "source": [
        "leaky_relu(-13.4)"
      ],
      "execution_count": null,
      "outputs": [
        {
          "output_type": "execute_result",
          "data": {
            "text/plain": [
              "-1.34"
            ]
          },
          "metadata": {
            "tags": []
          },
          "execution_count": 21
        }
      ]
    },
    {
      "cell_type": "markdown",
      "metadata": {
        "id": "1NOO9RMmGnYj"
      },
      "source": [
        "# Part 6 - Dot products (Matrix multiplication)"
      ]
    },
    {
      "cell_type": "code",
      "metadata": {
        "id": "oXkR9INfGsIG"
      },
      "source": [
        "import numpy as np\n",
        "revenue = np.array([[180,200,220],[24,36,40],[12,18,20]])\n",
        "expenses = np.array([[80,90,100],[10,16,20],[8,10,10]])"
      ],
      "execution_count": 23,
      "outputs": []
    },
    {
      "cell_type": "code",
      "metadata": {
        "colab": {
          "base_uri": "https://localhost:8080/"
        },
        "id": "gAC9nbnCdLk4",
        "outputId": "3baecc3d-c792-444f-eda5-347dc1ec15bd"
      },
      "source": [
        "profit = revenue - expenses\n",
        "profit"
      ],
      "execution_count": 28,
      "outputs": [
        {
          "output_type": "execute_result",
          "data": {
            "text/plain": [
              "array([[100, 110, 120],\n",
              "       [ 14,  20,  20],\n",
              "       [  4,   8,  10]])"
            ]
          },
          "metadata": {
            "tags": []
          },
          "execution_count": 28
        }
      ]
    },
    {
      "cell_type": "code",
      "metadata": {
        "id": "m90GvvpjdlUO"
      },
      "source": [
        "price_per_unit = np.array([1000,400,1200])\n",
        "units = np.array([[30,40,50],[5,10,15],[2,5,7]])"
      ],
      "execution_count": 29,
      "outputs": []
    },
    {
      "cell_type": "markdown",
      "metadata": {
        "id": "T4lrd4XF6Iz7"
      },
      "source": [
        "In above case numpy is using broadcasting so it expands price_per_unit array from 1 row, 3 columns to 3 row and 3 columns. Correct way to do matrix multiplication is to use dot product as shown below"
      ]
    },
    {
      "cell_type": "code",
      "metadata": {
        "colab": {
          "base_uri": "https://localhost:8080/"
        },
        "id": "p1etJ7Z-drz6",
        "outputId": "58d46f68-d02c-440c-aeea-4f6187501926"
      },
      "source": [
        "np.dot(price_per_unit,units)"
      ],
      "execution_count": 32,
      "outputs": [
        {
          "output_type": "execute_result",
          "data": {
            "text/plain": [
              "array([34400, 50000, 64400])"
            ]
          },
          "metadata": {
            "tags": []
          },
          "execution_count": 32
        }
      ]
    },
    {
      "cell_type": "markdown",
      "metadata": {
        "id": "RyQumZsgQNML"
      },
      "source": [
        "# Part 7 - Loss or Cost Function"
      ]
    },
    {
      "cell_type": "code",
      "metadata": {
        "id": "kF_DDkhvQPn_"
      },
      "source": [
        "import numpy as np\n",
        "\n",
        "y_predicted = np.array([1,1,0,0,1])\n",
        "y_true = np.array([0.30,0.7,1,0,0.5])"
      ],
      "execution_count": 33,
      "outputs": []
    },
    {
      "cell_type": "code",
      "metadata": {
        "colab": {
          "base_uri": "https://localhost:8080/"
        },
        "id": "foteEGSZQ91i",
        "outputId": "c9637f3e-313e-43ea-9230-2a434bcf7e90"
      },
      "source": [
        "total_error = 0\n",
        "for yt, yp in zip(y_true, y_predicted):\n",
        "   total_error += abs(yt - yp)\n",
        "   print(total_error)\n",
        "print(\"total_error\",total_error)  \n",
        "print(\"MAE\", total_error/ len(y_true))"
      ],
      "execution_count": 40,
      "outputs": [
        {
          "output_type": "stream",
          "text": [
            "0.7\n",
            "1.0\n",
            "2.0\n",
            "2.0\n",
            "2.5\n",
            "total_error 2.5\n",
            "MAE 0.5\n"
          ],
          "name": "stdout"
        }
      ]
    },
    {
      "cell_type": "code",
      "metadata": {
        "colab": {
          "base_uri": "https://localhost:8080/"
        },
        "id": "Wth0NKWXThot",
        "outputId": "00b41856-ded1-4a8b-9fd6-1f0fd76a01c9"
      },
      "source": [
        "print(\"MAE\", np.mean(np.abs(y_true - y_predicted)))"
      ],
      "execution_count": 43,
      "outputs": [
        {
          "output_type": "stream",
          "text": [
            "MAE 0.5\n"
          ],
          "name": "stdout"
        }
      ]
    }
  ]
}